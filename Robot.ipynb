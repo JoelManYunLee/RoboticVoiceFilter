{
 "cells": [
  {
   "cell_type": "code",
   "execution_count": 56,
   "id": "b27a9db3-8afb-4215-9a52-fd664ca82a8d",
   "metadata": {},
   "outputs": [],
   "source": [
    "# Add relevant modules\n",
    "import pandas as pd\n",
    "import numpy as np\n",
    "import os\n",
    "from scipy.io import wavfile\n",
    "import math\n",
    "import sys\n",
    "import pyaudio\n",
    "import wave\n",
    "import librosa\n",
    "import soundfile as sf"
   ]
  },
  {
   "cell_type": "code",
   "execution_count": 57,
   "id": "5cc49c97-fa2d-4c34-bc8d-3afeb5a8036d",
   "metadata": {},
   "outputs": [],
   "source": [
    "fs,data = wavfile.read('Recordings/Test.wav') #loads the file and its sampling frequency\n",
    "#open a wav format music  \n",
    "f = wave.open(r\"Recordings/Test.wav\",\"rb\")  \n",
    "#instantiate PyAudio  \n",
    "p = pyaudio.PyAudio()  \n",
    "\n",
    "chunk = 1024"
   ]
  },
  {
   "cell_type": "code",
   "execution_count": 58,
   "id": "b4ad6bd1-1707-446b-b851-658a5d0634a6",
   "metadata": {},
   "outputs": [],
   "source": [
    "#open stream  \n",
    "stream = p.open(format = p.get_format_from_width(f.getsampwidth()),  \n",
    "                channels = f.getnchannels(),  \n",
    "                rate = f.getframerate(),  \n",
    "                output = True)  \n",
    "#read data  \n",
    "data = f.readframes(chunk)  "
   ]
  },
  {
   "cell_type": "code",
   "execution_count": 59,
   "id": "5e9701c8",
   "metadata": {},
   "outputs": [],
   "source": [
    "#play stream  \n",
    "while data:  \n",
    "    stream.write(data)  \n",
    "    data = f.readframes(chunk)  "
   ]
  },
  {
   "cell_type": "code",
   "execution_count": 60,
   "id": "d554aa2d",
   "metadata": {},
   "outputs": [],
   "source": [
    "#stop stream  \n",
    "stream.stop_stream()  \n",
    "stream.close()  "
   ]
  },
  {
   "cell_type": "code",
   "execution_count": 61,
   "id": "4af812fc",
   "metadata": {},
   "outputs": [],
   "source": [
    "#close PyAudio  \n",
    "p.terminate() "
   ]
  },
  {
   "cell_type": "code",
   "execution_count": 62,
   "id": "25b87ec4",
   "metadata": {},
   "outputs": [
    {
     "name": "stdout",
     "output_type": "stream",
     "text": [
      "44100\n"
     ]
    }
   ],
   "source": [
    "#check framerate\n",
    "framerate = f.getframerate()\n",
    "print(framerate)\n"
   ]
  },
  {
   "cell_type": "code",
   "execution_count": 37,
   "id": "c9d3ef60",
   "metadata": {},
   "outputs": [],
   "source": [
    "#import file to extract (distorts audio don't use)\n",
    "start = 0 # seconds\n",
    "end = 7 # seconds\n",
    "\n",
    "# file to extract the snippet from\n",
    "with wave.open('Recordings/Test.wav', \"rb\") as infile:\n",
    "    # get file data\n",
    "    nchannels = 1\n",
    "    sampwidth = infile.getsampwidth()\n",
    "    framerate = 16000\n",
    "    # set position in wave to start of segment\n",
    "    infile.setpos(int(start * framerate))\n",
    "    # extract data\n",
    "    data = infile.readframes(int((end - start) * framerate))\n",
    "\n",
    "# write the extracted data to a new file\n",
    "with wave.open('compressedAudio.wav', 'w') as outfile:\n",
    "    outfile.setnchannels(nchannels)\n",
    "    outfile.setsampwidth(sampwidth)\n",
    "    outfile.setframerate(framerate)\n",
    "    outfile.setnframes(int(len(data) / sampwidth))\n",
    "    outfile.writeframes(data)"
   ]
  },
  {
   "cell_type": "code",
   "execution_count": 63,
   "id": "a176f936",
   "metadata": {},
   "outputs": [
    {
     "name": "stdout",
     "output_type": "stream",
     "text": [
      "1600\n"
     ]
    }
   ],
   "source": [
    "#adjust framerate and convert stereo to mono\n",
    "#source: https://stackoverflow.com/questions/30619740/downsampling-wav-audio-file\n",
    "#useful guide: https://analyticsindiamag.com/hands-on-guide-to-librosa-for-handling-audio-files/#:~:text=The%20sampling%20rate%20is%20nothing,the%20total%20number%20of%20samples.\n",
    "data1, sample_rate = librosa.load( 'Recordings/Test.wav', sr=1600, mono=True )\n",
    "print(sample_rate)"
   ]
  },
  {
   "cell_type": "code",
   "execution_count": null,
   "id": "ea3a5051",
   "metadata": {},
   "outputs": [],
   "source": [
    "#write new audio file with correct sampling rate (not working)\n",
    "rate = 16000\n",
    "data = np.random.uniform(-1, 1, size=(rate * 10, 2))\n",
    "\n",
    "sf.write('Recordings/Test.wav', data, rate, format=wavfile)"
   ]
  },
  {
   "cell_type": "code",
   "execution_count": null,
   "id": "68f08b56",
   "metadata": {},
   "outputs": [],
   "source": [
    "#split into chunks\n",
    "#source: https://stackoverflow.com/questions/73252225/librosa-split-wav-file-into-15s-intervals\n"
   ]
  }
 ],
 "metadata": {
  "kernelspec": {
   "display_name": "Python 3 (ipykernel)",
   "language": "python",
   "name": "python3"
  },
  "language_info": {
   "codemirror_mode": {
    "name": "ipython",
    "version": 3
   },
   "file_extension": ".py",
   "mimetype": "text/x-python",
   "name": "python",
   "nbconvert_exporter": "python",
   "pygments_lexer": "ipython3",
   "version": "3.11.3"
  }
 },
 "nbformat": 4,
 "nbformat_minor": 5
}
