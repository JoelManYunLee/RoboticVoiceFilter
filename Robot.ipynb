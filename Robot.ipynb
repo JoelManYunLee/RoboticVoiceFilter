{
 "cells": [
  {
   "cell_type": "code",
   "execution_count": 74,
   "id": "b27a9db3-8afb-4215-9a52-fd664ca82a8d",
   "metadata": {},
   "outputs": [],
   "source": [
    "# Add relevant modules\n",
    "import pandas as pd\n",
    "import numpy as np\n",
    "import os\n",
    "from scipy.io import wavfile\n",
    "import math\n",
    "import sys\n",
    "import pyaudio\n",
    "import wave\n",
    "import librosa\n",
    "import soundfile as sf"
   ]
  },
  {
   "cell_type": "code",
   "execution_count": 75,
   "id": "5cc49c97-fa2d-4c34-bc8d-3afeb5a8036d",
   "metadata": {},
   "outputs": [],
   "source": [
    "#loads the file and its sampling frequency\n",
    "fs, data = wavfile.read('Recordings/Test.wav')\n",
    "#open a wav format music  \n",
    "f = wave.open(\"Recordings/Test.wav\",\"rb\")  \n",
    "#instantiate PyAudio  \n",
    "p = pyaudio.PyAudio()  \n",
    "\n",
    "chunk = 1024"
   ]
  },
  {
   "cell_type": "code",
   "execution_count": 76,
   "id": "b4ad6bd1-1707-446b-b851-658a5d0634a6",
   "metadata": {},
   "outputs": [],
   "source": [
    "#open stream  \n",
    "stream = p.open(format = p.get_format_from_width(f.getsampwidth()),  \n",
    "                channels = f.getnchannels(),  \n",
    "                rate = f.getframerate(),  \n",
    "                output = True)  \n",
    "#read data  \n",
    "data = f.readframes(chunk)  "
   ]
  },
  {
   "cell_type": "code",
   "execution_count": 77,
   "id": "5e9701c8",
   "metadata": {},
   "outputs": [],
   "source": [
    "#play stream  \n",
    "while data:  \n",
    "    stream.write(data)  \n",
    "    data = f.readframes(chunk)  "
   ]
  },
  {
   "cell_type": "code",
   "execution_count": 78,
   "id": "d554aa2d",
   "metadata": {},
   "outputs": [],
   "source": [
    "#stop stream  \n",
    "stream.stop_stream()  \n",
    "stream.close()  "
   ]
  },
  {
   "cell_type": "code",
   "execution_count": 79,
   "id": "4af812fc",
   "metadata": {},
   "outputs": [],
   "source": [
    "#close PyAudio  \n",
    "p.terminate() "
   ]
  },
  {
   "cell_type": "code",
   "execution_count": 83,
   "id": "9e38c2d9",
   "metadata": {},
   "outputs": [],
   "source": [
    "#switch to mono if audio is stereo\n",
    "#fs, data = wavfile.read('Recordings/Test.wav')\n",
    "\n",
    "#check number of channels\n",
    "#n_Channels = wave.open('Recordings/Test.wav',\"rb\").getnchannels()\n",
    "\n",
    "#write new mono wav file if necessary\n",
    "#if n_Channels == 2:\n",
    "   # wavfile.write('MonoRecording.wav', fs, data[:,0])\n",
    "#else:\n",
    "   # wavfile.write('MonoRecording.wav', fs, data)"
   ]
  },
  {
   "cell_type": "code",
   "execution_count": 90,
   "id": "a176f936",
   "metadata": {},
   "outputs": [],
   "source": [
    "#adjust framerate and convert stereo to mono and output new file\n",
    "data1, sample_rate = librosa.load( 'Recordings/Test.wav', sr=16000, mono=True )\n",
    "wavfile.write('Downsampled.wav', sample_rate, data1)"
   ]
  },
  {
   "cell_type": "code",
   "execution_count": 86,
   "id": "ea3a5051",
   "metadata": {},
   "outputs": [],
   "source": [
    "#load new downsampled wav\n",
    "fs2, data2 = wavfile.read('Downsampled.wav')\n",
    "\n",
    "#get the duration of the new wav\n",
    "duration = len(data2)/fs2\n",
    "\n",
    "#negative file length for wav file segmentation\n",
    "negative_file_length = -len(data2)\n",
    "\n",
    "#decide chunk length\n",
    "chunk_length = 600\n",
    "\n",
    "#determine how many wav files will be made\n",
    "num_of_files = len(data2)//chunk_length\n",
    "\n",
    "#list of time segments\n",
    "arr = []\n",
    "\n",
    "#Add each of the segments into the list\n",
    "for i in range(num_of_files):\n",
    "    arr.append(data2 [ i * chunk_length : negative_file_length + chunk_length + ( i * chunk_length)])\n",
    "    #conversion to numpy array\n",
    "arr = np.array(arr)"
   ]
  }
 ],
 "metadata": {
  "kernelspec": {
   "display_name": "Python 3 (ipykernel)",
   "language": "python",
   "name": "python3"
  },
  "language_info": {
   "codemirror_mode": {
    "name": "ipython",
    "version": 3
   },
   "file_extension": ".py",
   "mimetype": "text/x-python",
   "name": "python",
   "nbconvert_exporter": "python",
   "pygments_lexer": "ipython3",
   "version": "3.11.3"
  }
 },
 "nbformat": 4,
 "nbformat_minor": 5
}
