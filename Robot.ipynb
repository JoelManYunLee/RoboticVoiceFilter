{
 "cells": [
  {
   "cell_type": "code",
   "execution_count": 3,
   "id": "b27a9db3-8afb-4215-9a52-fd664ca82a8d",
   "metadata": {},
   "outputs": [],
   "source": [
    "# Add relevant modules\n",
    "import pandas as pd\n",
    "import numpy as np\n",
    "import os\n",
    "from scipy.io import wavfile\n",
    "import math\n",
    "import sys\n",
    "import pyaudio\n",
    "import wave"
   ]
  },
  {
   "cell_type": "code",
   "execution_count": 1,
   "id": "5cc49c97-fa2d-4c34-bc8d-3afeb5a8036d",
   "metadata": {},
   "outputs": [
    {
     "ename": "SyntaxError",
     "evalue": "invalid syntax (431359132.py, line 27)",
     "output_type": "error",
     "traceback": [
      "\u001b[1;36m  Cell \u001b[1;32mIn[1], line 27\u001b[1;36m\u001b[0m\n\u001b[1;33m    p.terminate()  y2=255*y / np.max(y) # new maximum is now 255\u001b[0m\n\u001b[1;37m                   ^\u001b[0m\n\u001b[1;31mSyntaxError\u001b[0m\u001b[1;31m:\u001b[0m invalid syntax\n"
     ]
    }
   ],
   "source": [
    "fs,data = wavfile.read('Recordings/Test.wav') #loads the file and its sampling frequency\n",
    "#open a wav format music  \n",
    "f = wave.open(r\"/usr/share/sounds/alsa/Rear_Center.wav\",\"rb\")  \n",
    "#instantiate PyAudio  \n",
    "p = pyaudio.PyAudio()  \n",
    "\n",
    "chunk = 1024"
   ]
  },
  {
   "cell_type": "code",
   "execution_count": null,
   "id": "b4ad6bd1-1707-446b-b851-658a5d0634a6",
   "metadata": {},
   "outputs": [],
   "source": [
    "#open stream  \n",
    "stream = p.open(format = p.get_format_from_width(f.getsampwidth()),  \n",
    "                channels = f.getnchannels(),  \n",
    "                rate = f.getframerate(),  \n",
    "                output = True)  \n",
    "#read data  \n",
    "data = f.readframes(chunk)  "
   ]
  },
  {
   "cell_type": "code",
   "execution_count": null,
   "id": "5e9701c8",
   "metadata": {},
   "outputs": [],
   "source": [
    "#play stream  \n",
    "while data:  \n",
    "    stream.write(data)  \n",
    "    data = f.readframes(chunk)  "
   ]
  },
  {
   "cell_type": "code",
   "execution_count": null,
   "id": "d554aa2d",
   "metadata": {},
   "outputs": [],
   "source": [
    "#stop stream  \n",
    "stream.stop_stream()  \n",
    "stream.close()  "
   ]
  },
  {
   "cell_type": "code",
   "execution_count": null,
   "id": "4af812fc",
   "metadata": {},
   "outputs": [],
   "source": [
    "#close PyAudio  \n",
    "p.terminate()  y2=255*y / np.max(y) # new maximum is now 255\n",
    "dataout = np.asarray(y2, dtype=np.int16) # to integer type 16\n",
    "\n",
    "wavfile.write('Recordings/Test.wav', 1000, dataout)"
   ]
  }
 ],
 "metadata": {
  "kernelspec": {
   "display_name": "Python 3 (ipykernel)",
   "language": "python",
   "name": "python3"
  },
  "language_info": {
   "codemirror_mode": {
    "name": "ipython",
    "version": 3
   },
   "file_extension": ".py",
   "mimetype": "text/x-python",
   "name": "python",
   "nbconvert_exporter": "python",
   "pygments_lexer": "ipython3",
   "version": "3.10.10"
  }
 },
 "nbformat": 4,
 "nbformat_minor": 5
}
